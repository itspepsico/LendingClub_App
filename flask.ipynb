{
 "cells": [
  {
   "cell_type": "code",
   "execution_count": 36,
   "metadata": {
    "collapsed": true
   },
   "outputs": [],
   "source": [
    "import numpy as np\n",
    "import pandas as pd\n",
    "import warnings\n",
    "warnings.filterwarnings(\"ignore\")"
   ]
  },
  {
   "cell_type": "code",
   "execution_count": 5,
   "metadata": {
    "collapsed": false
   },
   "outputs": [
    {
     "name": "stdout",
     "output_type": "stream",
     "text": [
      "LogisticRegression(C=1.0, class_weight='balanced', dual=False,\n",
      "          fit_intercept=True, intercept_scaling=1, max_iter=100,\n",
      "          multi_class='ovr', n_jobs=1, penalty='l1', random_state=None,\n",
      "          solver='liblinear', tol=0.0001, verbose=0, warm_start=False)\n"
     ]
    }
   ],
   "source": [
    "all_models = np.load('all_models_reg_n_grade.npy')\n",
    "best_model = all_models[2]\n",
    "print best_model"
   ]
  },
  {
   "cell_type": "code",
   "execution_count": 69,
   "metadata": {
    "collapsed": true
   },
   "outputs": [],
   "source": [
    "#Define a function to one-hot encode data using the type of columns\n",
    "#INPUT: Dataframe\n",
    "#       Columns with categorical values\n",
    "#OUTPUT: Encoded dataset\n",
    "#Main functionality: Convert all categorical columns to independent columns and\n",
    "#                    Standardize all parameters\n",
    "def encode(data, encode_cols):\n",
    "    final_cols = ['y', 'Verified', 'n', 'car', 'credit_card', 'debt_consolidation', 'educational', 'home_improvement', \n",
    "                  'Source Verified', 'house', 'medical', 'moving', 'other', 'renewable_energy', 'small_business', 'vacation', \n",
    "                  'wedding', 'major_purchase', 'RENT', 'Not Verified', 'OTHER', '36 months', '60 months', '1 year', '10+ years', \n",
    "                  '2 years', '3 years', 'OWN', '5 years', '6 years', '4 years', '8 years', '9 years', '< 1 year', 'n/a', \n",
    "                  'MORTGAGE', '7 years', 'pub_rec_bankruptcies', 'pub_rec', 'delinq_2yrs', 'inq_last_6mths', 'curr_mean_fico', \n",
    "                  'sub_grade', 'open_acc', 'earliest_cr_line', 'prev_mean_fico', 'total_acc', 'int_rate', 'funded_amnt', \n",
    "                  'revol_util', 'dti', 'annual_inc', 'revol_bal']\n",
    "    encoded_x = pd.DataFrame({})\n",
    "    encoded_final_x = pd.DataFrame(columns=final_cols)\n",
    "    \n",
    "    for col in data.columns:\n",
    "        \n",
    "        if (col in encode_cols[:]):\n",
    "            encoded = pd.get_dummies(data[col])\n",
    "            encoded_x = pd.concat([encoded_x, encoded], axis = 1)\n",
    "        else:\n",
    "            data[col] = data[col].astype(float)\n",
    "            #data[col] = (data[col] - data[col].min())/(data[col].max() - data[col].min())\n",
    "            encoded_x = pd.concat([encoded_x, data[[col]]], axis = 1)\n",
    "            \n",
    "    for col in encoded_x.columns:\n",
    "        encoded_final_x[col] = encoded_x[col]\n",
    "        \n",
    "    encoded_final_x = encoded_final_x.fillna(0.0)\n",
    "    \n",
    "    return encoded_final_x"
   ]
  },
  {
   "cell_type": "code",
   "execution_count": 78,
   "metadata": {
    "collapsed": false
   },
   "outputs": [
    {
     "name": "stdout",
     "output_type": "stream",
     "text": [
      "     y  Verified    n  car  credit_card  debt_consolidation  educational  \\\n",
      "0  0.0       0.0  1.0  0.0          0.0                 1.0          0.0   \n",
      "\n",
      "   home_improvement  Source Verified  house    ...      open_acc  \\\n",
      "0               0.0              1.0    0.0    ...          10.0   \n",
      "\n",
      "   earliest_cr_line  prev_mean_fico  total_acc  int_rate  funded_amnt  \\\n",
      "0              24.0           542.0       50.0     50.89     200000.0   \n",
      "\n",
      "   revol_util    dti  annual_inc  revol_bal  \n",
      "0        79.9  16.63     70000.0    10470.0  \n",
      "\n",
      "[1 rows x 53 columns]\n",
      "[0]\n"
     ]
    }
   ],
   "source": [
    "#input_list = [5000.00, '36 months', 10.65, 'B2', '10+ years','RENT', 24000, 'Verified',\n",
    "#              'n','credit_card', 27.65, 0, 'Jan-85',1 , 3, 0, \n",
    "#              13648, 83.7,9, 0, 737, 742]\n",
    "\n",
    "input_list = [200000, '60 months', 50.89, 'F1', '6 years','RENT', 70000, 'Source Verified',\n",
    "              'n','debt_consolidation', 16.63, 0, 'Nov-92', 10, 10, 0, \n",
    "              10470, 79.9, 50, 0, 450, 542]  \n",
    "\n",
    "\n",
    "all_cols = ['funded_amnt', 'term', 'int_rate', 'sub_grade', 'emp_length','home_ownership', 'annual_inc', 'verification_status',\n",
    "           'pymnt_plan','purpose', 'dti', 'delinq_2yrs', 'earliest_cr_line','inq_last_6mths', 'open_acc', 'pub_rec', \n",
    "           'revol_bal', 'revol_util','total_acc', 'pub_rec_bankruptcies', 'curr_mean_fico','prev_mean_fico']\n",
    "encode_cols = ['emp_length', 'home_ownership', 'verification_status', 'term', 'pymnt_plan', 'purpose']\n",
    "\n",
    "\n",
    "input_df = pd.DataFrame(columns = all_cols)\n",
    "input_df.loc[0] = input_list\n",
    "\n",
    "input_df['grade'] = input_df['sub_grade'][0][0]\n",
    "input_df['grade'] = input_df['grade'].map({'A': 0, 'B': 5, 'C': 10, 'D': 15, 'E': 20, 'F': 25, 'G': 30})\n",
    "input_df['sub_grade'] = input_df['sub_grade'].str.extract('(\\d+)').astype(int) + input_df['grade']\n",
    "input_df.drop('grade', 1, inplace=True)\n",
    "\n",
    "input_df.earliest_cr_line = pd.to_datetime(input_df.earliest_cr_line)\n",
    "date_diff = (pd.datetime.today() - input_df.earliest_cr_line)\n",
    "input_df.earliest_cr_line = date_diff.dt.days/365\n",
    "input_df.earliest_cr_line = input_df.earliest_cr_line.astype(int)\n",
    "\n",
    "final_df = encode(input_df, encode_cols)\n",
    "print final_df\n",
    "\n",
    "print best_model.predict(final_df)\n",
    "# Web needs to take % away from int_rate, revol_util\n",
    "# leave month as it is given in file MMM-YY (provide proper input format)\n",
    "#\n"
   ]
  }
 ],
 "metadata": {
  "anaconda-cloud": {},
  "kernelspec": {
   "display_name": "Python [default]",
   "language": "python",
   "name": "python2"
  },
  "language_info": {
   "codemirror_mode": {
    "name": "ipython",
    "version": 2
   },
   "file_extension": ".py",
   "mimetype": "text/x-python",
   "name": "python",
   "nbconvert_exporter": "python",
   "pygments_lexer": "ipython2",
   "version": "2.7.12"
  }
 },
 "nbformat": 4,
 "nbformat_minor": 1
}
